{
 "cells": [
  {
   "attachments": {},
   "cell_type": "markdown",
   "metadata": {},
   "source": [
    "## **Sentiment Analysis - Yelp review** "
   ]
  },
  {
   "cell_type": "code",
   "execution_count": 1,
   "metadata": {},
   "outputs": [],
   "source": [
    "import pandas as pd\n",
    "import os\n",
    "import numpy as np\n",
    "import json\n",
    "\n",
    "import plotly.express as px\n",
    "\n",
    "# word cloud\n",
    "from PIL import Image\n",
    "from wordcloud import WordCloud, STOPWORDS, ImageColorGenerator\n",
    "import matplotlib.pyplot as plt\n",
    "\n",
    "# nlp \n",
    "import string\n",
    "import contractions\n",
    "from sklearn.feature_extraction.text import TfidfVectorizer\n",
    "from sklearn.feature_extraction.text import CountVectorizer\n",
    "from sklearn.feature_extraction import text\n",
    "import re\n",
    "from sklearn.model_selection import train_test_split\n",
    "from sklearn.linear_model import LogisticRegression\n",
    "from sklearn.metrics import classification_report\n",
    "# text data processing\n",
    "import nltk\n",
    "#nltk.download('all')\n",
    "from nltk.corpus import stopwords\n",
    "from nltk.tokenize import word_tokenize\n",
    "from nltk.stem import WordNetLemmatizer\n",
    "from nltk.util import ngrams\n",
    "from nltk.collocations import BigramCollocationFinder\n",
    "from nltk.metrics import BigramAssocMeasures\n",
    "\n",
    "# model deployment\n",
    "from flask import Flask\n",
    "import pickle"
   ]
  },
  {
   "cell_type": "code",
   "execution_count": 2,
   "metadata": {},
   "outputs": [],
   "source": [
    "def load_data(name):\n",
    "\n",
    "    data_path = r'data/yelp dataset/yelp_academic_dataset_{}.json'.format(name)\n",
    "    load = pd.read_json(data_path, lines=True)\n",
    "    return load"
   ]
  },
  {
   "cell_type": "code",
   "execution_count": 3,
   "metadata": {},
   "outputs": [],
   "source": [
    "review_df = load_data('review')"
   ]
  },
  {
   "cell_type": "code",
   "execution_count": 4,
   "metadata": {},
   "outputs": [],
   "source": [
    "review_df['date'] = pd.to_datetime(review_df['date'])\n",
    "review_df['year'] = review_df['date'].dt.year\n",
    "review_df['month'] = review_df['date'].dt.month"
   ]
  },
  {
   "cell_type": "code",
   "execution_count": 5,
   "metadata": {},
   "outputs": [],
   "source": [
    "business_df = load_data('business')"
   ]
  },
  {
   "cell_type": "code",
   "execution_count": 6,
   "metadata": {},
   "outputs": [],
   "source": [
    "business_cate = business_df[['business_id', 'categories', 'name', 'is_open', 'state']]\n",
    "review_bus = pd.merge(review_df, business_cate, on=['business_id'])\n",
    "review_bus = review_bus.dropna()"
   ]
  },
  {
   "cell_type": "code",
   "execution_count": 13,
   "metadata": {},
   "outputs": [],
   "source": [
    "res_lis = 'Restaurants|Bars|Desserts|Coffee & Tea|Donuts|Food'\n",
    "rest_review = review_bus.loc[review_bus['categories'].str.contains(res_lis)] # selecting restaurants\n",
    "rest_review = rest_review.loc[rest_review['categories'].str.contains('Grocery') == False] # dropping grocery"
   ]
  },
  {
   "cell_type": "code",
   "execution_count": null,
   "metadata": {},
   "outputs": [],
   "source": [
    "# star distribution for restaurant\n",
    "star_dis = rest_review['stars'].value_counts().reset_index(name='count_rating').sort_values(by='index')\n",
    "fig = px.bar(star_dis, x='index', y='count_rating',\n",
    "            title='Star distribution' )\n",
    "\n",
    "fig.update_layout(autosize=False,\n",
    "    width=700,\n",
    "    height=500)"
   ]
  },
  {
   "cell_type": "code",
   "execution_count": null,
   "metadata": {},
   "outputs": [],
   "source": [
    "# review amount trend\n",
    "num_review_year = rest_review['year'].value_counts().reset_index(name='number of review').sort_values(by='index')\n",
    "fig = px.line(num_review_year, x='index', y='number of review', title='Number of review trend')\n",
    "\n",
    "fig.update_layout(autosize=False,\n",
    "    width=700,\n",
    "    height=500)"
   ]
  },
  {
   "cell_type": "code",
   "execution_count": null,
   "metadata": {},
   "outputs": [],
   "source": [
    "num_review_month = rest_review['month'].value_counts().reset_index(name='number of review').sort_values(by='index')\n",
    "fig = px.line(num_review_month, x='index', y='number of review', title='Number of review trend')\n",
    "fig.update_layout(autosize=False,\n",
    "    width=700,\n",
    "    height=500)"
   ]
  },
  {
   "cell_type": "code",
   "execution_count": null,
   "metadata": {},
   "outputs": [],
   "source": [
    "rest_gp = rest_review.groupby('name')\n",
    "start_review = rest_gp['year'].min().reset_index()\n",
    "count_rest_year = start_review.groupby('year').count().reset_index()\n",
    "count_rest_year = count_rest_year[count_rest_year['year'] != 2022]\n",
    "count_rest_year = count_rest_year.rename({'name':'count_rest'}, axis=1)\n"
   ]
  },
  {
   "cell_type": "code",
   "execution_count": null,
   "metadata": {},
   "outputs": [],
   "source": [
    "fig = px.line(count_rest_year, x='year', y='count_rest')\n",
    "fig.show()"
   ]
  },
  {
   "cell_type": "code",
   "execution_count": null,
   "metadata": {},
   "outputs": [],
   "source": [
    "# save visulization dataset to csv\n",
    "# star_dis.to_csv(r'./visuization/star_distri.csv')\n",
    "# num_review_year.to_csv(r'./visuization/review_trend_year.csv')\n",
    "# num_review_month.to_csv(r'./visuization/review_trend_month.csv')\n",
    "# count_rest_year.to_csv(r'./visuization/count_rest_peryear.csv')"
   ]
  },
  {
   "cell_type": "code",
   "execution_count": null,
   "metadata": {},
   "outputs": [],
   "source": [
    "# data preparation\n",
    "rest_gp = rest_review.groupby(by=['name', 'year'])\n",
    "rest_rating = rest_gp['stars'].mean().reset_index()\n",
    "\n",
    "def rating_year_trend(restaurant_name):\n",
    "\n",
    "    temp = rest_rating.loc[rest_rating['name'] == restaurant_name]\n",
    "\n",
    "    fig = px.line(temp, x='year', y='stars', title='Rating trend for {}'.format(restaurant_name))\n",
    "    \n",
    "    fig.update_layout(autosize=False,\n",
    "    width=700,\n",
    "    height=500)\n",
    "    \n",
    "    return fig"
   ]
  },
  {
   "attachments": {},
   "cell_type": "markdown",
   "metadata": {},
   "source": [
    "#### Sentiment analysis"
   ]
  },
  {
   "cell_type": "code",
   "execution_count": 14,
   "metadata": {},
   "outputs": [],
   "source": [
    "# data preparation\n",
    "review_sentiment = rest_review[['text', 'stars', 'useful']]\n",
    "review_sentiment = review_sentiment.loc[review_sentiment['useful']>0].reset_index()\n",
    "review_sentiment = review_sentiment[['text', 'stars']]"
   ]
  },
  {
   "cell_type": "code",
   "execution_count": 15,
   "metadata": {},
   "outputs": [],
   "source": [
    "# convert stars to 2-scale\n",
    "review_sentiment['sentiment'] = review_sentiment['stars'].replace({1:0, 2:0, 3:0, 4:1, 5:1})\n",
    "review_sentiment = review_sentiment[['text', 'sentiment']]"
   ]
  },
  {
   "cell_type": "code",
   "execution_count": null,
   "metadata": {},
   "outputs": [],
   "source": [
    "# starbucks_review['sentiment'] = starbucks_review['stars'].replace({1:0, 2:0, 3:0, 4:1, 5:1})\n",
    "# starbucks_review = starbucks_review.drop('stars', axis=1)"
   ]
  },
  {
   "cell_type": "code",
   "execution_count": 16,
   "metadata": {},
   "outputs": [],
   "source": [
    "# remove new line\n",
    "def remove_newline(text):\n",
    "    return ''.join(text.splitlines())"
   ]
  },
  {
   "cell_type": "code",
   "execution_count": 17,
   "metadata": {},
   "outputs": [],
   "source": [
    "# replace contraction\n",
    "def replace_contractions(text):\n",
    "    text = re.sub(r\"won't\", \"will not\", str(text))\n",
    "    text = re.sub(r\"would't\", \"would not\",str(text))\n",
    "    text = re.sub(r\"could't\", \"could not\",str(text))\n",
    "    text = re.sub(r\"\\'d\",  \" would\",str(text))\n",
    "    text = re.sub(r\"can't\", \"can not\",str(text))\n",
    "    text = re.sub(r\"n\\'t\", \" not\", str(text))\n",
    "    text = re.sub(r\"\\'re\", \" are\", str(text))\n",
    "    text = re.sub(r\"\\'s\", \" is\", str(text))\n",
    "    text = re.sub(r\"\\'ll\", \" will\", str(text))\n",
    "    text = re.sub(r\"\\'t\", \" not\", str(text))\n",
    "    text = re.sub(r\"\\'count=ve\", \" have\", str(text))\n",
    "    text = re.sub(r\"\\'m\", \" am\", str(text))\n",
    "    return str(text)"
   ]
  },
  {
   "cell_type": "code",
   "execution_count": 18,
   "metadata": {},
   "outputs": [],
   "source": [
    "# remove punctuation\n",
    "def remove_punc(text):\n",
    "    for punc in string.punctuation:\n",
    "        text = text.replace(punc, '')\n",
    "    return text"
   ]
  },
  {
   "cell_type": "code",
   "execution_count": 19,
   "metadata": {},
   "outputs": [],
   "source": [
    "# remove all non-charater\n",
    "def remove_non_char(text):\n",
    "    text = re.sub('[0-9]+', '', str(text))\n",
    "    return text"
   ]
  },
  {
   "cell_type": "code",
   "execution_count": 20,
   "metadata": {},
   "outputs": [],
   "source": [
    "# lemmatization\n",
    "\n",
    "def lemmatize_text(text):\n",
    "    lemmatizer = WordNetLemmatizer()\n",
    "    words = text.split()\n",
    "    words = [lemmatizer.lemmatize(word) for word in words]\n",
    "    return ' '.join(words)\n"
   ]
  },
  {
   "cell_type": "code",
   "execution_count": 21,
   "metadata": {},
   "outputs": [],
   "source": [
    "def text_data_preprossing(text):\n",
    "    \n",
    "    # remove new line\n",
    "    text = text.apply(remove_newline)\n",
    "\n",
    "    # replace contraction\n",
    "    text = text.apply(replace_contractions)\n",
    "\n",
    "    # remove punctuation\n",
    "    text = text.apply(remove_punc)\n",
    "\n",
    "    # remove extra space \n",
    "    text = text.apply(lambda x: re.sub(' +', ' ', str(x)))\n",
    "\n",
    "    # remove stop words\n",
    "    stop = stopwords.words(\"english\")\n",
    "    text = text.apply(lambda x: \" \".join([x for x in x.split() if x not in stop]))\n",
    "\n",
    "    # remove all non_char\n",
    "    text = text.apply(remove_non_char)\n",
    "\n",
    "    #covert to lowercase\n",
    "    text = text.str.lower()\n",
    "\n",
    "    # lemmatization\n",
    "    text = text.apply(lemmatize_text)\n",
    "\n",
    "    return text"
   ]
  },
  {
   "cell_type": "code",
   "execution_count": 21,
   "metadata": {},
   "outputs": [
    {
     "name": "stdout",
     "output_type": "stream",
     "text": [
      "X fit completed\n"
     ]
    }
   ],
   "source": [
    "# TfidVectorizer\n",
    "tf = TfidfVectorizer(min_df=0.01, lowercase=False)\n",
    "\n",
    "X = review_sentiment['text']\n",
    "y = review_sentiment['sentiment']\n",
    "\n",
    "Tf_transformer = tf.fit(X)\n",
    "print('X fit completed')"
   ]
  },
  {
   "cell_type": "code",
   "execution_count": 24,
   "metadata": {},
   "outputs": [
    {
     "name": "stdout",
     "output_type": "stream",
     "text": [
      "X_train transform completed\n",
      "X_test transform completed\n"
     ]
    }
   ],
   "source": [
    "X_train, X_test, y_train, y_test = train_test_split(X, y, test_size=0.3, random_state=101)\n",
    "\n",
    "X_train_transform = Tf_transformer.transform(X_train)\n",
    "print('X_train transform completed')\n",
    "X_test_transform = Tf_transformer.transform(X_test)\n",
    "print('X_test transform completed')"
   ]
  },
  {
   "cell_type": "code",
   "execution_count": 25,
   "metadata": {},
   "outputs": [
    {
     "data": {
      "text/html": [
       "<style>#sk-container-id-1 {color: black;background-color: white;}#sk-container-id-1 pre{padding: 0;}#sk-container-id-1 div.sk-toggleable {background-color: white;}#sk-container-id-1 label.sk-toggleable__label {cursor: pointer;display: block;width: 100%;margin-bottom: 0;padding: 0.3em;box-sizing: border-box;text-align: center;}#sk-container-id-1 label.sk-toggleable__label-arrow:before {content: \"▸\";float: left;margin-right: 0.25em;color: #696969;}#sk-container-id-1 label.sk-toggleable__label-arrow:hover:before {color: black;}#sk-container-id-1 div.sk-estimator:hover label.sk-toggleable__label-arrow:before {color: black;}#sk-container-id-1 div.sk-toggleable__content {max-height: 0;max-width: 0;overflow: hidden;text-align: left;background-color: #f0f8ff;}#sk-container-id-1 div.sk-toggleable__content pre {margin: 0.2em;color: black;border-radius: 0.25em;background-color: #f0f8ff;}#sk-container-id-1 input.sk-toggleable__control:checked~div.sk-toggleable__content {max-height: 200px;max-width: 100%;overflow: auto;}#sk-container-id-1 input.sk-toggleable__control:checked~label.sk-toggleable__label-arrow:before {content: \"▾\";}#sk-container-id-1 div.sk-estimator input.sk-toggleable__control:checked~label.sk-toggleable__label {background-color: #d4ebff;}#sk-container-id-1 div.sk-label input.sk-toggleable__control:checked~label.sk-toggleable__label {background-color: #d4ebff;}#sk-container-id-1 input.sk-hidden--visually {border: 0;clip: rect(1px 1px 1px 1px);clip: rect(1px, 1px, 1px, 1px);height: 1px;margin: -1px;overflow: hidden;padding: 0;position: absolute;width: 1px;}#sk-container-id-1 div.sk-estimator {font-family: monospace;background-color: #f0f8ff;border: 1px dotted black;border-radius: 0.25em;box-sizing: border-box;margin-bottom: 0.5em;}#sk-container-id-1 div.sk-estimator:hover {background-color: #d4ebff;}#sk-container-id-1 div.sk-parallel-item::after {content: \"\";width: 100%;border-bottom: 1px solid gray;flex-grow: 1;}#sk-container-id-1 div.sk-label:hover label.sk-toggleable__label {background-color: #d4ebff;}#sk-container-id-1 div.sk-serial::before {content: \"\";position: absolute;border-left: 1px solid gray;box-sizing: border-box;top: 0;bottom: 0;left: 50%;z-index: 0;}#sk-container-id-1 div.sk-serial {display: flex;flex-direction: column;align-items: center;background-color: white;padding-right: 0.2em;padding-left: 0.2em;position: relative;}#sk-container-id-1 div.sk-item {position: relative;z-index: 1;}#sk-container-id-1 div.sk-parallel {display: flex;align-items: stretch;justify-content: center;background-color: white;position: relative;}#sk-container-id-1 div.sk-item::before, #sk-container-id-1 div.sk-parallel-item::before {content: \"\";position: absolute;border-left: 1px solid gray;box-sizing: border-box;top: 0;bottom: 0;left: 50%;z-index: -1;}#sk-container-id-1 div.sk-parallel-item {display: flex;flex-direction: column;z-index: 1;position: relative;background-color: white;}#sk-container-id-1 div.sk-parallel-item:first-child::after {align-self: flex-end;width: 50%;}#sk-container-id-1 div.sk-parallel-item:last-child::after {align-self: flex-start;width: 50%;}#sk-container-id-1 div.sk-parallel-item:only-child::after {width: 0;}#sk-container-id-1 div.sk-dashed-wrapped {border: 1px dashed gray;margin: 0 0.4em 0.5em 0.4em;box-sizing: border-box;padding-bottom: 0.4em;background-color: white;}#sk-container-id-1 div.sk-label label {font-family: monospace;font-weight: bold;display: inline-block;line-height: 1.2em;}#sk-container-id-1 div.sk-label-container {text-align: center;}#sk-container-id-1 div.sk-container {/* jupyter's `normalize.less` sets `[hidden] { display: none; }` but bootstrap.min.css set `[hidden] { display: none !important; }` so we also need the `!important` here to be able to override the default hidden behavior on the sphinx rendered scikit-learn.org. See: https://github.com/scikit-learn/scikit-learn/issues/21755 */display: inline-block !important;position: relative;}#sk-container-id-1 div.sk-text-repr-fallback {display: none;}</style><div id=\"sk-container-id-1\" class=\"sk-top-container\"><div class=\"sk-text-repr-fallback\"><pre>LogisticRegression(max_iter=1000)</pre><b>In a Jupyter environment, please rerun this cell to show the HTML representation or trust the notebook. <br />On GitHub, the HTML representation is unable to render, please try loading this page with nbviewer.org.</b></div><div class=\"sk-container\" hidden><div class=\"sk-item\"><div class=\"sk-estimator sk-toggleable\"><input class=\"sk-toggleable__control sk-hidden--visually\" id=\"sk-estimator-id-1\" type=\"checkbox\" checked><label for=\"sk-estimator-id-1\" class=\"sk-toggleable__label sk-toggleable__label-arrow\">LogisticRegression</label><div class=\"sk-toggleable__content\"><pre>LogisticRegression(max_iter=1000)</pre></div></div></div></div></div>"
      ],
      "text/plain": [
       "LogisticRegression(max_iter=1000)"
      ]
     },
     "execution_count": 25,
     "metadata": {},
     "output_type": "execute_result"
    }
   ],
   "source": [
    "# Logistic model\n",
    "log_model = LogisticRegression(max_iter=1000)\n",
    "log_model.fit(X_train_transform, y_train)"
   ]
  },
  {
   "cell_type": "code",
   "execution_count": 32,
   "metadata": {},
   "outputs": [],
   "source": [
    "from sklearn.pipeline import make_pipeline\n",
    "pipeline = make_pipeline(tf, log_model)"
   ]
  },
  {
   "cell_type": "code",
   "execution_count": 45,
   "metadata": {},
   "outputs": [],
   "source": [
    "# with open(r'pipeline.pkl', 'wb') as file:\n",
    "#     pickle.dump(pipeline, file)"
   ]
  },
  {
   "cell_type": "code",
   "execution_count": 46,
   "metadata": {},
   "outputs": [],
   "source": [
    "pred_test = pipeline.predict(X_test)"
   ]
  },
  {
   "cell_type": "code",
   "execution_count": 38,
   "metadata": {},
   "outputs": [
    {
     "name": "stdout",
     "output_type": "stream",
     "text": [
      "              precision    recall  f1-score   support\n",
      "\n",
      "           0       0.86      0.81      0.83    225598\n",
      "           1       0.90      0.93      0.91    419333\n",
      "\n",
      "    accuracy                           0.89    644931\n",
      "   macro avg       0.88      0.87      0.87    644931\n",
      "weighted avg       0.88      0.89      0.88    644931\n",
      "\n"
     ]
    }
   ],
   "source": [
    "print(classification_report(y_test,pred_test))"
   ]
  },
  {
   "cell_type": "code",
   "execution_count": 25,
   "metadata": {},
   "outputs": [],
   "source": [
    "def wordcloud_star(star = None, custom_stopword = None, restaurant = None):\n",
    "    \"\"\"\n",
    "    Generating word cloud based on rating and restaurant\n",
    "    \n",
    "    Parameters:\n",
    "    star (int): specific rating \n",
    "    cutome_stopword (str): additional stopword can be added to stop word list\n",
    "    restaurant (str): specific restaurant name\n",
    "\n",
    "    Returns:\n",
    "    A word cloud image for specific rating and restaurant\n",
    "    \n",
    "    \"\"\"\n",
    "    \n",
    "\n",
    "    # data preparation\n",
    "    if restaurant:\n",
    "        review = rest_review.loc[rest_review['name'] == restaurant]\n",
    "        review = review.loc[review['stars'] == star]\n",
    "        review = review.loc[review['useful']>1]\n",
    "        review = review[['text']]\n",
    "    \n",
    "    else:\n",
    "        review = rest_review.loc[rest_review['stars']==star]\n",
    "        review = review.loc[review['useful']>1]\n",
    "        review = review[['text']]\n",
    "        \n",
    "\n",
    "    \n",
    "    # text data processing\n",
    "    if custom_stopword:\n",
    "        stop_word = text.ENGLISH_STOP_WORDS.union(custom_stopword)\n",
    "    else:\n",
    "        stop_word = text.ENGLISH_STOP_WORDS\n",
    "\n",
    "    review['text'] = text_data_preprossing(review['text'])\n",
    "\n",
    "    # apply TfidVectorizer to get frequency\n",
    "    tf = TfidfVectorizer(max_features = 500, stop_words = stop_word)\n",
    "    review_tfid = tf.fit_transform(review['text'])\n",
    "    review_feature = tf.get_feature_names_out()\n",
    "    review_feature_df = pd.DataFrame(data=review_tfid.toarray(), columns=review_feature).head()\n",
    "\n",
    "    # word cloud data \n",
    "    review_wc = pd.DataFrame(data=review_feature_df.T.sum(axis=1)).reset_index()\n",
    "    review_wc = review_wc.sort_values(by = 0, ascending=False)\n",
    "    review_wc = review_wc.loc[(review_wc[0]!=0)]\n",
    "    review_wc = dict(zip(review_wc['index'].tolist(), review_wc[0].tolist()))\n",
    "\n",
    "    # generate word cloud\n",
    "    Wordcloud_re = WordCloud(background_color='white').generate_from_frequencies(review_wc)\n",
    "\n",
    "    plt.imshow(Wordcloud_re, interpolation='bilinear')\n",
    "    \n",
    "    if restaurant:\n",
    "        plt.title('Word Cloud for {} {} star review'.format(restaurant, star))\n",
    "    else:\n",
    "        plt.title('Word Cloud for {} star review'.format(star))\n",
    "    \n",
    "    plt.axis('off')\n",
    "    plt.show()"
   ]
  },
  {
   "cell_type": "code",
   "execution_count": 27,
   "metadata": {},
   "outputs": [
    {
     "data": {
      "image/png": "[encoded data removed]",
      "text/plain": [
       "<Figure size 432x288 with 1 Axes>"
      ]
     },
     "metadata": {
      "needs_background": "light"
     },
     "output_type": "display_data"
    }
   ],
   "source": [
    "wordcloud_star(star=3)"
   ]
  },
  {
   "cell_type": "code",
   "execution_count": 177,
   "metadata": {},
   "outputs": [],
   "source": [
    "def n_grams_top10(n, restaurant, state, pos_or_neg):\n",
    "\n",
    "    rest_review['sentiment'] = rest_review['stars'].replace({1:0, 2:0, 3:0, 4:1, 5:1})\n",
    "\n",
    "    reivew = rest_review.loc[rest_review['name'] == restaurant]\n",
    "    reivew = reivew.loc[reivew['sentiment'] == pos_or_neg]\n",
    "    reivew = reivew.loc[reivew['state'] == state]\n",
    "\n",
    "    ngram = CountVectorizer(ngram_range=(n,n), analyzer='word', stop_words='english')\n",
    "    ngram_text = ngram.fit_transform(reivew['text'])\n",
    "    frequencies = sum(ngram_text).toarray()[0]\n",
    "    return pd.DataFrame(frequencies, index=ngram.get_feature_names_out(), columns=['frequency']).sort_values('frequency', ascending=False)[:10]"
   ]
  },
  {
   "cell_type": "code",
   "execution_count": 209,
   "metadata": {},
   "outputs": [
    {
     "data": {
      "text/html": [
       "<div>\n",
       "<style scoped>\n",
       "    .dataframe tbody tr th:only-of-type {\n",
       "        vertical-align: middle;\n",
       "    }\n",
       "\n",
       "    .dataframe tbody tr th {\n",
       "        vertical-align: top;\n",
       "    }\n",
       "\n",
       "    .dataframe thead th {\n",
       "        text-align: right;\n",
       "    }\n",
       "</style>\n",
       "<table border=\"1\" class=\"dataframe\">\n",
       "  <thead>\n",
       "    <tr style=\"text-align: right;\">\n",
       "      <th></th>\n",
       "      <th>frequency</th>\n",
       "    </tr>\n",
       "  </thead>\n",
       "  <tbody>\n",
       "    <tr>\n",
       "      <th>fast food restaurant</th>\n",
       "      <td>36</td>\n",
       "    </tr>\n",
       "    <tr>\n",
       "      <th>ice cream machine</th>\n",
       "      <td>33</td>\n",
       "    </tr>\n",
       "    <tr>\n",
       "      <th>worst mcdonald ve</th>\n",
       "      <td>25</td>\n",
       "    </tr>\n",
       "    <tr>\n",
       "      <th>fast food place</th>\n",
       "      <td>22</td>\n",
       "    </tr>\n",
       "    <tr>\n",
       "      <th>poor customer service</th>\n",
       "      <td>20</td>\n",
       "    </tr>\n",
       "    <tr>\n",
       "      <th>waited 10 minutes</th>\n",
       "      <td>19</td>\n",
       "    </tr>\n",
       "    <tr>\n",
       "      <th>quarter pounder cheese</th>\n",
       "      <td>18</td>\n",
       "    </tr>\n",
       "    <tr>\n",
       "      <th>horrible customer service</th>\n",
       "      <td>17</td>\n",
       "    </tr>\n",
       "    <tr>\n",
       "      <th>crispy chicken sandwich</th>\n",
       "      <td>17</td>\n",
       "    </tr>\n",
       "    <tr>\n",
       "      <th>double quarter pounder</th>\n",
       "      <td>16</td>\n",
       "    </tr>\n",
       "  </tbody>\n",
       "</table>\n",
       "</div>"
      ],
      "text/plain": [
       "                           frequency\n",
       "fast food restaurant              36\n",
       "ice cream machine                 33\n",
       "worst mcdonald ve                 25\n",
       "fast food place                   22\n",
       "poor customer service             20\n",
       "waited 10 minutes                 19\n",
       "quarter pounder cheese            18\n",
       "horrible customer service         17\n",
       "crispy chicken sandwich           17\n",
       "double quarter pounder            16"
      ]
     },
     "execution_count": 209,
     "metadata": {},
     "output_type": "execute_result"
    }
   ],
   "source": [
    "n_grams_top10(3, \"McDonald's\", 'PA', 0)"
   ]
  }
 ],
 "metadata": {
  "kernelspec": {
   "display_name": "base",
   "language": "python",
   "name": "python3"
  },
  "language_info": {
   "codemirror_mode": {
    "name": "ipython",
    "version": 3
   },
   "file_extension": ".py",
   "mimetype": "text/x-python",
   "name": "python",
   "nbconvert_exporter": "python",
   "pygments_lexer": "ipython3",
   "version": "3.9.12"
  },
  "orig_nbformat": 4
 },
 "nbformat": 4,
 "nbformat_minor": 2
}
